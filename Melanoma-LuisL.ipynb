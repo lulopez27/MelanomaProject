{
 "cells": [
  {
   "cell_type": "markdown",
   "metadata": {},
   "source": [
    "# ABCD - It is a technique used for detecting the probability of a lesion being a melanoma.\n",
    "### A - Asymmetry\n",
    "The asymmetry of the lesion. The more asymmetrical the more suspectful it is of being melanoma.\n",
    "### B - Border\n",
    "### C - Colour\n",
    "### D - Dimension"
   ]
  },
  {
   "cell_type": "code",
   "execution_count": 27,
   "metadata": {},
   "outputs": [],
   "source": [
    "import cv2 #Image Library\n",
    "import numpy as np #Numpy library\n",
    "\n",
    "imname = \"Images/FirstImages/ISIC_0024792.png\" #Name of the image to analyze\n",
    "image = cv2.imread(imname)\n",
    "\n",
    "gray = cv2.cvtColor(image, cv2.COLOR_BGR2GRAY) #Same image but in grayscale, this is done for calculating the threshold\n",
    "_,thresh = cv2.threshold(gray,127,255,cv2.THRESH_BINARY_INV) #Get the threshold, separate the melanoma from healthy skin\n",
    "#It is done to binary, so all values are sent to either extreme, 0 or 1\n",
    "contours, hier = cv2.findContours(thresh, cv2.RETR_TREE,cv2.CHAIN_APPROX_SIMPLE)#Get the countours, returned to contrs\n",
    "cv2.drawContours(image, contours, -1, (0,255,0), 3) #Draw the countours onto colour image\n",
    "\n",
    "cv2.imshow('Image1',image)\n",
    "cv2.waitKey(0)\n",
    "cv2.destroyAllWindows()"
   ]
  },
  {
   "cell_type": "code",
   "execution_count": null,
   "metadata": {},
   "outputs": [],
   "source": []
  }
 ],
 "metadata": {
  "kernelspec": {
   "display_name": "Python 3",
   "language": "python",
   "name": "python3"
  },
  "language_info": {
   "codemirror_mode": {
    "name": "ipython",
    "version": 3
   },
   "file_extension": ".py",
   "mimetype": "text/x-python",
   "name": "python",
   "nbconvert_exporter": "python",
   "pygments_lexer": "ipython3",
   "version": "3.8.5"
  }
 },
 "nbformat": 4,
 "nbformat_minor": 4
}
